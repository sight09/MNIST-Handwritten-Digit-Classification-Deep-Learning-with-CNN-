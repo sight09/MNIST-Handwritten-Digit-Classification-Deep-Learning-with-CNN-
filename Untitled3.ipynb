{
  "nbformat": 4,
  "nbformat_minor": 0,
  "metadata": {
    "colab": {
      "provenance": []
    },
    "kernelspec": {
      "name": "python3",
      "display_name": "Python 3"
    },
    "language_info": {
      "name": "python"
    }
  },
  "cells": [
    {
      "cell_type": "markdown",
      "source": [
        "***Project: MNIST Handwritten Digit Classification (Deep Learning with CNN)***\n",
        "\n",
        "🎯 Goal\n",
        "\n",
        "Train a CNN to classify handwritten digits (0–9) from the MNIST dataset.\n",
        "\n",
        "Achieve >95% accuracy on the test set.\n",
        "\n",
        "Visualize predictions on 5 sample test images.\n",
        "\n",
        "⚙️ Setup & Imports"
      ],
      "metadata": {
        "id": "xJahy4U02YYV"
      }
    },
    {
      "cell_type": "code",
      "source": [
        "# Import TensorFlow and required libraries\n",
        "import tensorflow as tf\n",
        "from tensorflow.keras import layers, models\n",
        "import matplotlib.pyplot as plt\n",
        "import numpy as np\n"
      ],
      "metadata": {
        "id": "cxx74z__2qNr"
      },
      "execution_count": null,
      "outputs": []
    },
    {
      "cell_type": "markdown",
      "source": [
        "1. Load the MNIST Dataset\n",
        "\n",
        "MNIST is built into TensorFlow — no need to download manually."
      ],
      "metadata": {
        "id": "WncL8XgQ2uLJ"
      }
    },
    {
      "cell_type": "code",
      "source": [
        "# Load dataset\n",
        "(x_train, y_train), (x_test, y_test) = tf.keras.datasets.mnist.load_data()\n",
        "\n",
        "# Normalize pixel values (0–255 → 0–1)\n",
        "x_train, x_test = x_train / 255.0, x_test / 255.0\n",
        "\n",
        "# Reshape data to include channel dimension\n",
        "x_train = x_train.reshape(-1, 28, 28, 1)\n",
        "x_test = x_test.reshape(-1, 28, 28, 1)\n",
        "\n",
        "print(\"Training data shape:\", x_train.shape)\n",
        "print(\"Testing data shape:\", x_test.shape)\n"
      ],
      "metadata": {
        "id": "vk422R8E2w3o"
      },
      "execution_count": null,
      "outputs": []
    },
    {
      "cell_type": "markdown",
      "source": [
        "2. Build the CNN Model"
      ],
      "metadata": {
        "id": "ibieY6us20PE"
      }
    },
    {
      "cell_type": "code",
      "source": [
        "model = models.Sequential([\n",
        "    layers.Conv2D(32, (3,3), activation='relu', input_shape=(28,28,1)),\n",
        "    layers.MaxPooling2D((2,2)),\n",
        "\n",
        "    layers.Conv2D(64, (3,3), activation='relu'),\n",
        "    layers.MaxPooling2D((2,2)),\n",
        "\n",
        "    layers.Flatten(),\n",
        "    layers.Dense(64, activation='relu'),\n",
        "    layers.Dense(10, activation='softmax')\n",
        "])\n",
        "\n",
        "model.summary()\n"
      ],
      "metadata": {
        "id": "X_dRC1DX2z2o"
      },
      "execution_count": null,
      "outputs": []
    },
    {
      "cell_type": "markdown",
      "source": [
        "3. Compile the Model"
      ],
      "metadata": {
        "id": "l5LrakLt25qc"
      }
    },
    {
      "cell_type": "code",
      "source": [
        "model.compile(\n",
        "    optimizer='adam',\n",
        "    loss='sparse_categorical_crossentropy',\n",
        "    metrics=['accuracy']\n",
        ")\n"
      ],
      "metadata": {
        "id": "k4WCfUQL27y7"
      },
      "execution_count": null,
      "outputs": []
    },
    {
      "cell_type": "markdown",
      "source": [
        "4. Train the Model"
      ],
      "metadata": {
        "id": "_uyheWTh2-cw"
      }
    },
    {
      "cell_type": "code",
      "source": [
        "history = model.fit(\n",
        "    x_train, y_train,\n",
        "    epochs=5,\n",
        "    batch_size=64,\n",
        "    validation_split=0.1,\n",
        "    verbose=2\n",
        ")\n"
      ],
      "metadata": {
        "id": "EiFG1eYp3Aiq"
      },
      "execution_count": null,
      "outputs": []
    },
    {
      "cell_type": "markdown",
      "source": [
        "Evaluate on Test Data"
      ],
      "metadata": {
        "id": "LzNsEu2A3HbO"
      }
    },
    {
      "cell_type": "code",
      "source": [
        "test_loss, test_acc = model.evaluate(x_test, y_test, verbose=0)\n",
        "print(f\"\\n✅ Test Accuracy: {test_acc * 100:.2f}%\")\n"
      ],
      "metadata": {
        "id": "cOi75EWE3LVc"
      },
      "execution_count": null,
      "outputs": []
    },
    {
      "cell_type": "markdown",
      "source": [
        "6. Visualize Accuracy and Loss"
      ],
      "metadata": {
        "id": "nY750Ze63OnB"
      }
    },
    {
      "cell_type": "code",
      "source": [
        "plt.figure(figsize=(12,4))\n",
        "\n",
        "# Accuracy plot\n",
        "plt.subplot(1,2,1)\n",
        "plt.plot(history.history['accuracy'], label='train')\n",
        "plt.plot(history.history['val_accuracy'], label='val')\n",
        "plt.title('Model Accuracy')\n",
        "plt.xlabel('Epochs')\n",
        "plt.ylabel('Accuracy')\n",
        "plt.legend()\n",
        "\n",
        "# Loss plot\n",
        "plt.subplot(1,2,2)\n",
        "plt.plot(history.history['loss'], label='train')\n",
        "plt.plot(history.history['val_loss'], label='val')\n",
        "plt.title('Model Loss')\n",
        "plt.xlabel('Epochs')\n",
        "plt.ylabel('Loss')\n",
        "plt.legend()\n",
        "\n",
        "plt.show()\n"
      ],
      "metadata": {
        "id": "o2QQ1QnB3RFf"
      },
      "execution_count": null,
      "outputs": []
    },
    {
      "cell_type": "markdown",
      "source": [
        "7. Visualize Sample Predictions"
      ],
      "metadata": {
        "id": "f2cnigsj3UD-"
      }
    },
    {
      "cell_type": "code",
      "source": [
        "# Make predictions\n",
        "predictions = model.predict(x_test)\n",
        "\n",
        "# Get first 5 images and predictions\n",
        "num_images = 5\n",
        "plt.figure(figsize=(10, 3))\n",
        "\n",
        "for i in range(num_images):\n",
        "    plt.subplot(1, num_images, i + 1)\n",
        "    plt.imshow(x_test[i].reshape(28,28), cmap='gray')\n",
        "    pred_label = np.argmax(predictions[i])\n",
        "    true_label = y_test[i]\n",
        "    color = 'green' if pred_label == true_label else 'red'\n",
        "    plt.title(f\"Pred: {pred_label}\\nTrue: {true_label}\", color=color)\n",
        "    plt.axis('off')\n",
        "\n",
        "plt.show()\n"
      ],
      "metadata": {
        "id": "uhfZX6yt3WML"
      },
      "execution_count": null,
      "outputs": []
    },
    {
      "cell_type": "markdown",
      "source": [
        "Save the Model (Optional)"
      ],
      "metadata": {
        "id": "7_jzSVjq3ZEJ"
      }
    },
    {
      "cell_type": "code",
      "source": [
        "model.save(\"mnist_cnn_model.h5\")\n",
        "print(\"Model saved successfully!\")\n"
      ],
      "metadata": {
        "id": "0mn78TPX3bPl"
      },
      "execution_count": null,
      "outputs": []
    },
    {
      "cell_type": "markdown",
      "source": [
        "**Expected Results**\n",
        "\n",
        "Test Accuracy: 97–99%\n",
        "\n",
        "Loss: ~0.04–0.08\n",
        "\n",
        "Visuals: The 5 sample predictions will mostly show correct results in green.\n",
        "\n",
        "🌱 Ethical Reflection (Optional for Report)\n",
        "\n",
        "This project demonstrates AI’s potential to automate pattern recognition tasks such as digit classification.\n",
        "However, fairness and interpretability remain crucial — models should be used responsibly, ensuring equitable data access and avoiding misuse in surveillance or decision-making without transparency."
      ],
      "metadata": {
        "id": "83ZbT9BR3fUr"
      }
    }
  ]
}